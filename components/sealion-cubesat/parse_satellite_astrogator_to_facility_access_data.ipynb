{
 "cells": [
  {
   "cell_type": "code",
   "execution_count": 41,
   "id": "42c3d0bb",
   "metadata": {},
   "outputs": [],
   "source": [
    "import pandas as pd\n",
    "import traceback\n",
    "from pint import UnitRegistry"
   ]
  },
  {
   "cell_type": "code",
   "execution_count": 42,
   "id": "a198711f",
   "metadata": {},
   "outputs": [],
   "source": [
    "u = UnitRegistry()"
   ]
  },
  {
   "cell_type": "code",
   "execution_count": 2,
   "id": "3cfe7377",
   "metadata": {},
   "outputs": [],
   "source": [
    "df = pd.read_csv(\"Satellite-Astrogator-To-Facility-CGA_Access.csv\")"
   ]
  },
  {
   "cell_type": "code",
   "execution_count": 3,
   "id": "0b208721",
   "metadata": {},
   "outputs": [
    {
     "name": "stdout",
     "output_type": "stream",
     "text": [
      "     Access         Start Time (UTCG)          Stop Time (UTCG) Duration (sec)\n",
      "0         1   1 Nov 2023 18:01:04.089   1 Nov 2023 18:08:32.115        448.026\n",
      "1         2   2 Nov 2023 10:42:31.826   2 Nov 2023 10:56:28.415        836.590\n",
      "2         3   2 Nov 2023 12:43:07.344   2 Nov 2023 12:57:54.204        886.860\n",
      "3         4   2 Nov 2023 14:45:17.531   2 Nov 2023 14:57:55.854        758.323\n",
      "4         5   2 Nov 2023 16:47:46.459   2 Nov 2023 16:57:16.445        569.985\n",
      "...     ...                       ...                       ...            ...\n",
      "4262   2231  31 Oct 2024 00:27:48.136  31 Oct 2024 00:54:59.078       1630.942\n",
      "4263   2232  31 Oct 2024 02:26:30.648  31 Oct 2024 02:56:06.830       1776.182\n",
      "4264   2233  31 Oct 2024 04:26:26.863  31 Oct 2024 04:55:21.927       1735.064\n",
      "4265   2234  31 Oct 2024 06:29:07.460  31 Oct 2024 06:51:28.361       1340.901\n",
      "4266   2235  31 Oct 2024 20:51:26.208  31 Oct 2024 21:08:15.529       1009.321\n",
      "\n",
      "[4267 rows x 4 columns]\n"
     ]
    }
   ],
   "source": [
    "print(df)"
   ]
  },
  {
   "cell_type": "code",
   "execution_count": 4,
   "id": "383ccb34",
   "metadata": {},
   "outputs": [
    {
     "data": {
      "text/plain": [
       "'2 Nov 2023 16:47:46.459'"
      ]
     },
     "execution_count": 4,
     "metadata": {},
     "output_type": "execute_result"
    }
   ],
   "source": [
    "df[\"Start Time (UTCG)\"][4]"
   ]
  },
  {
   "cell_type": "code",
   "execution_count": 5,
   "id": "7f6d1dac",
   "metadata": {},
   "outputs": [],
   "source": [
    "from datetime import datetime"
   ]
  },
  {
   "cell_type": "code",
   "execution_count": 6,
   "id": "d1cea6ea",
   "metadata": {},
   "outputs": [],
   "source": [
    "dt = datetime.strptime(df[\"Start Time (UTCG)\"][4], \"%d %b %Y %H:%M:%S.%f\") # see https://stackoverflow.com/a/127972"
   ]
  },
  {
   "cell_type": "code",
   "execution_count": 7,
   "id": "183d45b3",
   "metadata": {},
   "outputs": [
    {
     "data": {
      "text/plain": [
       "2023"
      ]
     },
     "execution_count": 7,
     "metadata": {},
     "output_type": "execute_result"
    }
   ],
   "source": [
    "dt.year"
   ]
  },
  {
   "cell_type": "code",
   "execution_count": 8,
   "id": "14770244",
   "metadata": {},
   "outputs": [
    {
     "data": {
      "text/plain": [
       "11"
      ]
     },
     "execution_count": 8,
     "metadata": {},
     "output_type": "execute_result"
    }
   ],
   "source": [
    "dt.month"
   ]
  },
  {
   "cell_type": "code",
   "execution_count": 9,
   "id": "c05c7ab7",
   "metadata": {},
   "outputs": [
    {
     "data": {
      "text/plain": [
       "2"
      ]
     },
     "execution_count": 9,
     "metadata": {},
     "output_type": "execute_result"
    }
   ],
   "source": [
    "dt.day"
   ]
  },
  {
   "cell_type": "code",
   "execution_count": 51,
   "id": "3781959e",
   "metadata": {},
   "outputs": [
    {
     "name": "stdout",
     "output_type": "stream",
     "text": [
      "3.0733866666666665 hour\n"
     ]
    },
    {
     "name": "stderr",
     "output_type": "stream",
     "text": [
      "Traceback (most recent call last):\n",
      "  File \"/tmp/ipykernel_76037/2872468265.py\", line 17, in <module>\n",
      "    total_access_duration_per_day += float(df[\"Duration (sec)\"][i])\n",
      "ValueError: could not convert string to float: 'Duration (sec)'\n"
     ]
    }
   ],
   "source": [
    "start_datetime_0 = datetime.strptime(df[\"Start Time (UTCG)\"][0], \"%d %b %Y %H:%M:%S.%f\")\n",
    "start_ymd_0 = tuple([start_datetime_0.year, start_datetime_0.month, start_datetime_0.day])\n",
    "total_access_duration_per_day = float(df[\"Duration (sec)\"][0])\n",
    "list_of_total_duration_per_day = []\n",
    "for i, access_event in df.iterrows():\n",
    "    try:\n",
    "        access_datetime_unformatted = access_event[\"Start Time (UTCG)\"]\n",
    "        #print(access_datetime_unformatted)\n",
    "        start_datetime = datetime.strptime(access_datetime_unformatted, \"%d %b %Y %H:%M:%S.%f\")\n",
    "    except Exception:\n",
    "        pass\n",
    "        #traceback.print_exc()\n",
    "    start_ymd_i = tuple([start_datetime.year, start_datetime.month, start_datetime.day])\n",
    "    if start_ymd_i == start_ymd_0:\n",
    "        #print(df[\"Duration (sec)\"][i])\n",
    "        try:\n",
    "            total_access_duration_per_day += float(df[\"Duration (sec)\"][i])\n",
    "        except Exception:\n",
    "            traceback.print_exc()\n",
    "    else:\n",
    "        list_of_total_duration_per_day.append(total_access_duration_per_day)\n",
    "        total_access_duration_per_day = float(df[\"Duration (sec)\"][i])\n",
    "        \n",
    "    start_ymd_0 = start_ymd_i\n",
    "#print(list_of_total_duration_per_day[:30])\n",
    "max_access_duration_per_day = (max(list_of_total_duration_per_day)*u.sec).to(\"hours\")\n",
    "print(max_access_duration_per_day)"
   ]
  },
  {
   "cell_type": "code",
   "execution_count": null,
   "id": "f5166a3c",
   "metadata": {},
   "outputs": [],
   "source": []
  }
 ],
 "metadata": {
  "kernelspec": {
   "display_name": "Python 3 (ipykernel)",
   "language": "python",
   "name": "python3"
  },
  "language_info": {
   "codemirror_mode": {
    "name": "ipython",
    "version": 3
   },
   "file_extension": ".py",
   "mimetype": "text/x-python",
   "name": "python",
   "nbconvert_exporter": "python",
   "pygments_lexer": "ipython3",
   "version": "3.8.10"
  }
 },
 "nbformat": 4,
 "nbformat_minor": 5
}
